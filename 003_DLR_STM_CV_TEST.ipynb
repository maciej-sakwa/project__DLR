{
 "cells": [
  {
   "cell_type": "code",
   "execution_count": 51,
   "metadata": {},
   "outputs": [],
   "source": [
    "import tensorflow as tf\n",
    "import numpy as np\n",
    "import pandas as pd\n",
    "import matplotlib.pyplot as plt\n",
    "from datetime import datetime\n",
    "from sklearn import model_selection"
   ]
  },
  {
   "cell_type": "code",
   "execution_count": 52,
   "metadata": {},
   "outputs": [],
   "source": [
    "tf.keras.backend.clear_session()\n",
    "tf.random.set_seed(0)"
   ]
  },
  {
   "cell_type": "markdown",
   "metadata": {},
   "source": [
    "### Data import"
   ]
  },
  {
   "cell_type": "markdown",
   "metadata": {},
   "source": [
    "Data loading - the 'clean' data has datetime index "
   ]
  },
  {
   "cell_type": "code",
   "execution_count": 53,
   "metadata": {},
   "outputs": [],
   "source": [
    "df_temp = pd.read_csv(r\"C:\\Users\\macie\\OneDrive\\Pulpit\\Fellowship\\999_OTHER\\DP_paper\\Line_Test1.csv\")\n",
    "df_temp.index = df_temp.apply(lambda row: datetime(year=int(row.Year), month=int(row.Month), day=int(row.Day), hour=int(row.Hour), minute=int(row.Minute)), axis=1)\n",
    "df_temp.rename(columns={'TEMP_LINE_SM1':'temp'}, inplace=True)\n",
    "df_temp.ffill(inplace=True)\n",
    "df_temp_resampled = df_temp.copy()"
   ]
  },
  {
   "cell_type": "markdown",
   "metadata": {},
   "source": [
    "Data standardization - std. scaling. We pick only the temperature column"
   ]
  },
  {
   "cell_type": "code",
   "execution_count": 54,
   "metadata": {},
   "outputs": [],
   "source": [
    "df_data = pd.DataFrame(df_temp_resampled.temp)\n",
    "\n",
    "data_mean = df_data.mean()\n",
    "data_std = df_data.std()\n",
    "df_data = (df_data - data_mean) / data_std\n",
    "len_data = len(df_data)"
   ]
  },
  {
   "cell_type": "markdown",
   "metadata": {},
   "source": [
    "Data splits - train/val/test"
   ]
  },
  {
   "cell_type": "code",
   "execution_count": 55,
   "metadata": {},
   "outputs": [],
   "source": [
    "tss = model_selection.TimeSeriesSplit(5)\n",
    "df_test = df_data[int(0.9*len_data):]\n",
    "indices = np.arange(0.9*len_data)"
   ]
  },
  {
   "cell_type": "markdown",
   "metadata": {},
   "source": [
    "### Time window genrator"
   ]
  },
  {
   "cell_type": "markdown",
   "metadata": {},
   "source": [
    "Window generator -> to be fed into the model. Sets up the time windows for the model."
   ]
  },
  {
   "cell_type": "code",
   "execution_count": 56,
   "metadata": {},
   "outputs": [],
   "source": [
    "class TimeWindowGenerator():\n",
    "\n",
    "    def __init__(self, input_width, output_width=1, output_offset=1, df_train = df_train, df_val=df_val, df_test=df_test, column_name = ['temp']):\n",
    "\n",
    "        # define the raw datasets\n",
    "        self.df_train = df_train\n",
    "        self.df_val = df_val\n",
    "        self.df_test = df_test\n",
    "\n",
    "        # Window parameters\n",
    "        self.input_width = input_width\n",
    "        self.output_width = output_width\n",
    "        self.offset = output_offset\n",
    "        self.total_size = self.input_width + self.offset\n",
    "        \n",
    "        # Define the indices\n",
    "        self.input_indices = np.arange(0, self.input_width)\n",
    "        self.output_indices = np.arange(self.total_size - self.output_width, self.total_size)\n",
    "        \n",
    "    # model representation when called\n",
    "    def __repr__(self):\n",
    "        return '\\n'.join([\n",
    "            f'Total window size: {self.total_size}',\n",
    "            f'Input indices: {self.input_indices}',\n",
    "            f'Label indices: {self.output_indices}'])\n",
    "    \n",
    "\n",
    "    def slice(self, batches):\n",
    "        # For training probably many batches, for test and deployment: one at a time\n",
    "        if len(np.shape(batches)) == 3:\n",
    "            inputs = batches[:, slice(0, self.input_width)]\n",
    "            output = batches[:, slice(self.total_size - self.output_width, self.total_size)]\n",
    "\n",
    "        else:\n",
    "            inputs = batches[slice(0, self.input_width)]\n",
    "            output = batches[slice(self.total_size - self.output_width, self.total_size)]\n",
    "\n",
    "        # Set shape for the tf dataset - works only if a tf.Dataset object is fed  \n",
    "        # e.g., a timeseries_dataset_from_array object\n",
    "        inputs.set_shape([None, self.input_width, None])\n",
    "        output.set_shape([None, self.output_width, None])\n",
    "\n",
    "        return inputs, output\n",
    "    \n",
    "    def compile_dataset(self, data, opt_shuffle=True):\n",
    "        # Convert to numpy float32 - for the keras object\n",
    "        data_array = np.array(data, dtype='float32')\n",
    "        \n",
    "        keras_dataset = tf.keras.utils.timeseries_dataset_from_array(\n",
    "            data = data_array,\n",
    "            targets=None,\n",
    "            sequence_length=self.total_size,\n",
    "            sequence_stride=1,\n",
    "            shuffle=opt_shuffle,\n",
    "            batch_size=32\n",
    "        )\n",
    "\n",
    "        keras_dataset = keras_dataset.map(self.slice)\n",
    "\n",
    "        return keras_dataset\n",
    "    \n",
    "    @property\n",
    "    def train(self):\n",
    "        return self.compile_dataset(self.df_train)\n",
    "\n",
    "    @property\n",
    "    def val(self):\n",
    "        return self.compile_dataset(self.df_val)\n",
    "\n",
    "    @property\n",
    "    def test(self):\n",
    "        return self.compile_dataset(self.df_test, opt_shuffle=False)\n",
    "    \n",
    "    @property\n",
    "    def example(self):\n",
    "        result = getattr(self, '_example', None)\n",
    "        if result is None:\n",
    "            result = next(iter(self.train))\n",
    "            self._example = result\n",
    "        return result"
   ]
  },
  {
   "cell_type": "markdown",
   "metadata": {},
   "source": [
    "Universal trainer"
   ]
  },
  {
   "cell_type": "code",
   "execution_count": 57,
   "metadata": {},
   "outputs": [],
   "source": [
    "def tiny_trainer(model, model_name, window_generator, max_epochs):\n",
    "  cb_early_stopping = tf.keras.callbacks.EarlyStopping(monitor='val_loss', patience=5)\n",
    "  # cb_checkpointing = tf.keras.callbacks.ModelCheckpoint(r'models/line_temp_model_{}_10_mins.hdf5'.format(model_name), monitor='val_loss', save_best_only=True, save_weights_only=True)\n",
    "\n",
    "  model.compile(loss=tf.keras.losses.MeanSquaredError(),\n",
    "                optimizer=tf.keras.optimizers.Adam(learning_rate=0.0001, clipvalue=1.0),\n",
    "                metrics=[tf.keras.metrics.MeanAbsoluteError()])\n",
    "\n",
    "  history = model.fit(window_generator.train, epochs=max_epochs,\n",
    "                      validation_data=window_generator.val,\n",
    "                      callbacks=[cb_early_stopping], verbose=0)\n",
    "  return history"
   ]
  },
  {
   "cell_type": "markdown",
   "metadata": {},
   "source": [
    "### Model definitions"
   ]
  },
  {
   "cell_type": "code",
   "execution_count": 58,
   "metadata": {},
   "outputs": [],
   "source": [
    "class Baseline(tf.keras.Model):\n",
    "  def __init__(self, label_index=None):\n",
    "    super().__init__()\n",
    "    self.label_index = label_index\n",
    "\n",
    "  def call(self, inputs):\n",
    "    if self.label_index is None:\n",
    "      return inputs\n",
    "    result = inputs[:, :, self.label_index]\n",
    "    return result[:, :, tf.newaxis]"
   ]
  },
  {
   "cell_type": "code",
   "execution_count": 59,
   "metadata": {},
   "outputs": [],
   "source": [
    "mlp_model = tf.keras.Sequential([\n",
    "    # Flatten\n",
    "    tf.keras.layers.Flatten(),\n",
    "    # Dense layers\n",
    "    tf.keras.layers.Dense(10, activation='relu'),\n",
    "    tf.keras.layers.Dense(10, activation='relu'),\n",
    "    tf.keras.layers.Dense(10, activation='relu'),\n",
    "    tf.keras.layers.Dense(1),\n",
    "    # Reshape into output\n",
    "    tf.keras.layers.Reshape([-1, 1])\n",
    "])"
   ]
  },
  {
   "cell_type": "markdown",
   "metadata": {},
   "source": [
    "### Train"
   ]
  },
  {
   "cell_type": "code",
   "execution_count": 67,
   "metadata": {},
   "outputs": [
    {
     "name": "stdout",
     "output_type": "stream",
     "text": [
      "29/29 [==============================] - 0s 1ms/step - loss: 0.0091 - mean_absolute_error: 0.0619\n",
      "29/29 [==============================] - 0s 1ms/step - loss: 0.0077 - mean_absolute_error: 0.0599\n",
      "29/29 [==============================] - 0s 1ms/step - loss: 0.0091 - mean_absolute_error: 0.0619\n",
      "29/29 [==============================] - 0s 1ms/step - loss: 0.0078 - mean_absolute_error: 0.0605\n",
      "29/29 [==============================] - 0s 1ms/step - loss: 0.0091 - mean_absolute_error: 0.0619\n",
      "29/29 [==============================] - 0s 2ms/step - loss: 0.0078 - mean_absolute_error: 0.0600\n",
      "29/29 [==============================] - 0s 1ms/step - loss: 0.0091 - mean_absolute_error: 0.0619\n",
      "29/29 [==============================] - 0s 2ms/step - loss: 0.0078 - mean_absolute_error: 0.0606\n",
      "29/29 [==============================] - 0s 3ms/step - loss: 0.0091 - mean_absolute_error: 0.0619\n",
      "29/29 [==============================] - 0s 4ms/step - loss: 0.0074 - mean_absolute_error: 0.0585\n"
     ]
    }
   ],
   "source": [
    "pers_mae = []\n",
    "test_mae = []\n",
    "\n",
    "for i, (train_index, val_index) in enumerate(tss.split(indices)):\n",
    "\n",
    "    df_train = df_data.iloc[train_index]\n",
    "    df_val = df_data.iloc[val_index]\n",
    "\n",
    "    window_1 = TimeWindowGenerator(input_width=1, df_train=df_train, df_val=df_val, df_test=df_test, output_offset=1)\n",
    "    window_6 = TimeWindowGenerator(input_width=6, df_train=df_train, df_val=df_val, df_test=df_test, output_offset=1)\n",
    "\n",
    "    persistance_model = Baseline(label_index=None)\n",
    "    history_persitance = tiny_trainer(model=persistance_model, model_name='persistence', window_generator=window_1, max_epochs=100)\n",
    "    history_mlp = tiny_trainer(model=mlp_model, model_name='cv_test', window_generator=window_6, max_epochs=100)\n",
    "\n",
    "    pers_mae.append(persistance_model.evaluate(window_1.test)[1])\n",
    "    test_mae.append(mlp_model.evaluate(window_6.test)[1])"
   ]
  },
  {
   "cell_type": "code",
   "execution_count": 68,
   "metadata": {},
   "outputs": [
    {
     "name": "stdout",
     "output_type": "stream",
     "text": [
      "Model CV score: \n",
      " - pers:   0.06187312677502632\n",
      " - test:   0.05988349989056587\n"
     ]
    }
   ],
   "source": [
    "print(f\"Model CV score: \\n - pers:   {np.average(pers_mae)}\\n - test:   {np.average(test_mae)}\")"
   ]
  },
  {
   "cell_type": "code",
   "execution_count": 69,
   "metadata": {},
   "outputs": [
    {
     "data": {
      "text/plain": [
       "[0.0599004402756691,\n",
       " 0.06045142933726311,\n",
       " 0.06000230833888054,\n",
       " 0.06057581678032875,\n",
       " 0.058487504720687866]"
      ]
     },
     "execution_count": 69,
     "metadata": {},
     "output_type": "execute_result"
    }
   ],
   "source": [
    "test_mae"
   ]
  },
  {
   "cell_type": "code",
   "execution_count": 70,
   "metadata": {},
   "outputs": [
    {
     "data": {
      "text/plain": [
       "[<matplotlib.lines.Line2D at 0x1ec8a5bdbd0>]"
      ]
     },
     "execution_count": 70,
     "metadata": {},
     "output_type": "execute_result"
    },
    {
     "data": {
      "image/png": "[encoded data removed]",
      "text/plain": [
       "<Figure size 640x480 with 1 Axes>"
      ]
     },
     "metadata": {},
     "output_type": "display_data"
    }
   ],
   "source": [
    "plt.plot(pers_mae, label='pers')\n",
    "plt.plot(test_mae, label='test')"
   ]
  },
  {
   "cell_type": "markdown",
   "metadata": {},
   "source": [
    "### Test"
   ]
  },
  {
   "cell_type": "code",
   "execution_count": null,
   "metadata": {},
   "outputs": [],
   "source": [
    "# model_error_val = {}\n",
    "# model_error_test = {}\n",
    "# model_FS_test = {}\n",
    "\n",
    "# print('Test model: persistence')\n",
    "# model_error_val['persistance'] = persistance_model.evaluate(window_1.val, verbose=1)\n",
    "# model_error_test['persistance'] = persistance_model.evaluate(window_1.test, verbose=1)\n",
    "\n",
    "\n",
    "\n",
    "# for name, model in trained_models.items():\n",
    "#     print(f'Test model: {name}')\n",
    "#     model_error_val[name] = model.evaluate(window_6.val, verbose=1)\n",
    "#     model_error_test[name] = model.evaluate(window_6.test, verbose=1)\n",
    "#     trainable_params = np.sum([np.prod(v.get_shape()) for v in model.trainable_weights])\n",
    "#     model_FS_test[name] = 1- (model_error_test[name][1] / model_error_test[\"persistance\"][1])\n",
    "\n",
    "#     print(f'Number of parameters: {trainable_params}')\n",
    "#     print(f'FS_test = {1- (model_error_test[name][1] / model_error_test[\"persistance\"][1]):.3}, FS_val = {1- (model_error_val[name][1] / model_error_val[\"persistance\"][1]):.3}')"
   ]
  },
  {
   "cell_type": "code",
   "execution_count": null,
   "metadata": {},
   "outputs": [],
   "source": [
    "# for key in model_error_test:\n",
    "#     print(key)\n",
    "#     print(f'RMSE: {np.sqrt(model_error_test[key][0]):.03f}')\n",
    "#     print(f'MAE: {model_error_test[key][1]:.03f}')"
   ]
  },
  {
   "cell_type": "code",
   "execution_count": null,
   "metadata": {},
   "outputs": [],
   "source": [
    "# heights_5 = [-0.30703689139926404, -0.01422131780964464, -0.0005217070157221837, -0.018031434759318454, 0.03503366470308544, 0.08436101788320138]\n",
    "# heights_10 = [-0.04333260114009341, 0.0188142712211391, -0.03838395983071763, -0.03985975506068984, 0.0479286104135771, 0.04025522073999588]\n",
    "# heights_15 = [-0.04293350995875023, -0.02236810575739101, -0.010567094878774164, 0.00982418708485433, -0.003811709080938863, -0.028289809135001454]"
   ]
  },
  {
   "cell_type": "code",
   "execution_count": null,
   "metadata": {},
   "outputs": [],
   "source": [
    "# plt.figure(figsize=(6, 4))\n",
    "\n",
    "# plt.grid(visible=True, which='major', alpha=0.2, color='#748c9d')\n",
    "\n",
    "\n",
    "# x = np.arange(0, 6)\n",
    "# y = np.arange(-0.35, 0.15, 0.05)\n",
    "# plt.bar(x-0.3, heights_5, width=0.25, label='5-min', color='#072449')\n",
    "# plt.bar(x, heights_10, width=0.25, label='10-min', color='#fbd404')\n",
    "# plt.bar(x+0.3, heights_15, width=0.25, label='15-min', color='#fc0313')\n",
    "\n",
    "\n",
    "# plt.ylabel('Forecast Skill [%]')\n",
    "# plt.xticks(ticks=x, labels=['S_2', 'M_2', 'L_2', 'S_3', 'M_3', 'L_3'])\n",
    "# plt.yticks(ticks=y, labels=[f'{(item*100):.0f}%' for item in y])\n",
    "# plt.legend(loc='lower right')\n",
    "# plt.tight_layout()\n",
    "# plt.savefig(r'img\\DLR\\results_mlps.png', dpi=300)\n",
    "# plt.show()\n",
    "\n"
   ]
  }
 ],
 "metadata": {
  "kernelspec": {
   "display_name": "nowcasting",
   "language": "python",
   "name": "python3"
  },
  "language_info": {
   "codemirror_mode": {
    "name": "ipython",
    "version": 3
   },
   "file_extension": ".py",
   "mimetype": "text/x-python",
   "name": "python",
   "nbconvert_exporter": "python",
   "pygments_lexer": "ipython3",
   "version": "3.11.0"
  },
  "orig_nbformat": 4
 },
 "nbformat": 4,
 "nbformat_minor": 2
}
